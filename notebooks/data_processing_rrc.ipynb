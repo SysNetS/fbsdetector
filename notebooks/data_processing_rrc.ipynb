{
 "cells": [
  {
   "cell_type": "markdown",
   "id": "79cb0b0e",
   "metadata": {},
   "source": [
    "# Import Libraries"
   ]
  },
  {
   "cell_type": "code",
   "execution_count": null,
   "id": "550a3cbd",
   "metadata": {},
   "outputs": [],
   "source": [
    "import os\n",
    "import csv\n",
    "import requests\n",
    "import numpy as np\n",
    "import pandas as pd\n",
    "import xml.etree.ElementTree as ET\n",
    "from sklearn.preprocessing import LabelEncoder\n",
    "pd.set_option('display.max_rows', None)"
   ]
  },
  {
   "cell_type": "markdown",
   "id": "3614830f",
   "metadata": {},
   "source": [
    "# Get Packet Fields"
   ]
  },
  {
   "cell_type": "code",
   "execution_count": null,
   "id": "e0626876",
   "metadata": {},
   "outputs": [],
   "source": [
    "def get_nested_field_names(field_element):\n",
    "    nested_field_names = []\n",
    "    for nested_field in field_element.findall('field'):\n",
    "        field_name = nested_field.get('name').replace(\".\", \"_\")\n",
    "        if field_name == '':\n",
    "            continue\n",
    "        nested_field_names.extend([field_name + '_name', field_name + '_showname', field_name + '_size', \n",
    "                                              field_name + '_pos', field_name + '_show', field_name + '_value'])\n",
    "        nested_field_names.extend(get_nested_field_names(nested_field))  # Recursively collect nested fields\n",
    "    return nested_field_names"
   ]
  },
  {
   "cell_type": "code",
   "execution_count": null,
   "id": "e76946f0",
   "metadata": {},
   "outputs": [],
   "source": [
    "def get_packet_field_names(packet):\n",
    "    packet_fields = []\n",
    "    for proto_lvl1 in packet.findall('proto'):\n",
    "        if proto_lvl1.get('name') == 'mac-lte':\n",
    "            for proto_lvl2 in proto_lvl1.findall('proto'):\n",
    "                if proto_lvl2.get('name') == 'lte_rrc':\n",
    "                    packet_fields = []\n",
    "                    for field in proto_lvl2.findall('field'):\n",
    "                        field_name = field.get('name').replace(\".\", \"_\")\n",
    "                        if field_name == '':\n",
    "                            continue\n",
    "                        packet_fields.extend([field_name + '_name', field_name + '_showname', field_name + '_size', \n",
    "                                              field_name + '_pos', field_name + '_show', field_name + '_value'])\n",
    "                        packet_fields.extend(get_nested_field_names(field))  # Collect nested fields\n",
    "                elif proto_lvl2.get('name') == 'rlc-lte':\n",
    "                    for proto_lvl3 in proto_lvl2.findall('proto'):\n",
    "                        if proto_lvl3.get('name') == 'pdcp-lte':\n",
    "                            for proto_lvl4 in proto_lvl3.findall('proto'):\n",
    "                                if proto_lvl4.get('name') == 'lte_rrc':\n",
    "                                    packet_fields = []\n",
    "                                    for field in proto_lvl4.findall('field'):\n",
    "                                        field_name = field.get('name').replace(\".\", \"_\")\n",
    "                                        if field.get('name') == '':\n",
    "                                            continue\n",
    "                                        packet_fields.extend([field_name + '_name', field_name + '_showname', field_name + '_size', \n",
    "                                          field_name + '_pos', field_name + '_show', field_name + '_value'])\n",
    "                                        packet_fields.extend(get_nested_field_names(field))  # Collect nested fields\n",
    "    return packet_fields"
   ]
  },
  {
   "cell_type": "markdown",
   "id": "ff90a03a",
   "metadata": {},
   "source": [
    "# Align Packet Features"
   ]
  },
  {
   "cell_type": "code",
   "execution_count": null,
   "id": "46e5021e",
   "metadata": {},
   "outputs": [],
   "source": [
    "def align_lists(list1, list2, list2_values):\n",
    "    list2_values_aligned = []\n",
    "    list2_aligned = []\n",
    "    for x in list1:\n",
    "        if x not in list2:\n",
    "            list2_values_aligned.append('')\n",
    "        else:\n",
    "            idx = list2.index(x)\n",
    "            list2_values_aligned.append(list2_values[idx])\n",
    "    return list2_values_aligned"
   ]
  },
  {
   "cell_type": "markdown",
   "id": "369e7ab3",
   "metadata": {},
   "source": [
    "# Make Dataframe from Packet Features"
   ]
  },
  {
   "cell_type": "code",
   "execution_count": null,
   "id": "2c533505",
   "metadata": {},
   "outputs": [],
   "source": [
    "def get_nested_fields(field_element):\n",
    "    nested_fields = []\n",
    "    for nested_field in field_element.findall('field'):\n",
    "        if nested_field.get('name') == '':\n",
    "            continue\n",
    "        nested_fields.extend([\n",
    "                nested_field.get('name'),\n",
    "                nested_field.get('showname'),\n",
    "                nested_field.get('size'),\n",
    "                nested_field.get('pos'),\n",
    "                nested_field.get('show'),\n",
    "                nested_field.get('value')\n",
    "            ])\n",
    "        nested_fields.extend(get_nested_fields(nested_field))  # Recursively collect nested fields\n",
    "    return nested_fields"
   ]
  },
  {
   "cell_type": "code",
   "execution_count": null,
   "id": "b1177c76",
   "metadata": {},
   "outputs": [],
   "source": [
    "def makeDataframe(xmlfile):\n",
    "    dataframe_list = []\n",
    "    tree = ET.parse(xmlfile)\n",
    "    root = tree.getroot()\n",
    "    packets = root.findall('packet')\n",
    "    combined_df = pd.DataFrame()\n",
    "    column_names = []\n",
    "    values = []\n",
    "    \n",
    "    flag = False\n",
    "    \n",
    "    column_names = []\n",
    "    for packet in packets:\n",
    "        columns = get_packet_field_names(packet)\n",
    "        column_names = set(column_names).union(set(columns))\n",
    "    column_names = list(column_names)\n",
    "    i = 1\n",
    "    for packet in packets:\n",
    "        for proto_lvl1 in packet.findall('proto'):\n",
    "            if proto_lvl1.get('name') == 'mac-lte':\n",
    "                for proto_lvl2 in proto_lvl1.findall('proto'):\n",
    "                    if proto_lvl2.get('name') == 'lte_rrc':\n",
    "                        flag = True\n",
    "                        packet_fields = []\n",
    "                        for field in proto_lvl2.findall('field'):\n",
    "                            if field.get('name') == '':\n",
    "                                continue\n",
    "                            packet_fields.extend([\n",
    "                                field.get('name'),\n",
    "                                field.get('showname'),\n",
    "                                field.get('size'),\n",
    "                                field.get('pos'),\n",
    "                                field.get('show'),\n",
    "                                field.get('value')\n",
    "                            ])\n",
    "                            packet_fields.extend(get_nested_fields(field))  # Collect nested fields\n",
    "                    elif proto_lvl2.get('name') == 'rlc-lte':\n",
    "                            for proto_lvl3 in proto_lvl2.findall('proto'):\n",
    "                                if proto_lvl3.get('name') == 'pdcp-lte':\n",
    "                                    for proto_lvl4 in proto_lvl3.findall('proto'):\n",
    "                                        if proto_lvl4.get('name') == 'lte_rrc':\n",
    "                                            flag = True\n",
    "                                            packet_fields = []\n",
    "                                            for field in proto_lvl4.findall('field'):\n",
    "                                                if field.get('name') == '':\n",
    "                                                    continue\n",
    "                                                packet_fields.extend([\n",
    "                                                    field.get('name'),\n",
    "                                                    field.get('showname'),\n",
    "                                                    field.get('size'),\n",
    "                                                    field.get('pos'),\n",
    "                                                    field.get('show'),\n",
    "                                                    field.get('value')\n",
    "                                                ])\n",
    "                                                packet_fields.extend(get_nested_fields(field))  # Collect nested fields\n",
    "        if flag:\n",
    "            columns = get_packet_field_names(packet)\n",
    "            values.append(align_lists(column_names, columns, packet_fields))\n",
    "            flag = False\n",
    "        i = i + 1\n",
    "    return list(column_names), values"
   ]
  },
  {
   "cell_type": "markdown",
   "id": "a3446880",
   "metadata": {},
   "source": [
    "# Prepare Dataframe from PCAP File"
   ]
  },
  {
   "cell_type": "code",
   "execution_count": null,
   "id": "d6d7dbe8",
   "metadata": {},
   "outputs": [],
   "source": [
    "def prepare_dataframe_from_pcap_file(input_file):\n",
    "    xml_output_file = input_file.replace(\"pcap\", \"xml\")\n",
    "    os.system(\"tshark -r \" + input_file + \" -T pdml > \" + xml_output_file)\n",
    "    column_names, values = makeDataframe(xml_output_file)\n",
    "    df = pd.DataFrame(values, columns=column_names)\n",
    "    return df"
   ]
  },
  {
   "cell_type": "code",
   "execution_count": null,
   "id": "6b62d76c",
   "metadata": {},
   "outputs": [],
   "source": [
    "df = pd.DataFrame()\n",
    "input_folder = \"../example_traces/rrc/\"\n",
    "for input_file in os.listdir(input_folder):\n",
    "    try:\n",
    "        df_i = prepare_dataframe_from_pcap_file(input_folder + input_file)\n",
    "    except IsADirectoryError as e:\n",
    "        continue\n",
    "    df = pd.concat([df, df_i])"
   ]
  },
  {
   "cell_type": "code",
   "execution_count": null,
   "id": "ef1c444c-24eb-4870-aeb4-c88c6fbbcd10",
   "metadata": {},
   "outputs": [],
   "source": [
    "df.shape"
   ]
  },
  {
   "cell_type": "code",
   "execution_count": null,
   "id": "aaaef537-2835-494d-b444-69142311e5b3",
   "metadata": {},
   "outputs": [],
   "source": [
    "os.makedirs(\"../output\", exist_ok=True)\n",
    "df.to_csv(\"../output/rrc_data_raw.csv\")"
   ]
  },
  {
   "cell_type": "markdown",
   "id": "b4b24da5-c93d-46e1-94d1-801b59f8e959",
   "metadata": {},
   "source": [
    "## Handle Missing values"
   ]
  },
  {
   "cell_type": "code",
   "execution_count": null,
   "id": "ec6aeaaa-0a44-4d95-8b2b-beaf3931463d",
   "metadata": {},
   "outputs": [],
   "source": [
    "df = df.dropna(axis=1, thresh=len(df) * 0.5) # Drop columns with more than 50% missing values\n",
    "df = df.loc[:, df.nunique() > 1] # Drop columns with the same value in all rows (no variation)\n",
    "df = df.replace(r'^\\s*$', np.nan, regex=True).fillna(-1) # replace empty cells (\" \") with -1\n",
    "df = df.fillna(-1) # replace all other missing values with -1"
   ]
  },
  {
   "cell_type": "code",
   "execution_count": null,
   "id": "e65b6210-674b-4241-9a52-dcacafad81d7",
   "metadata": {},
   "outputs": [],
   "source": [
    "df.shape"
   ]
  },
  {
   "cell_type": "markdown",
   "id": "43d0b45a-5cbb-484b-a65a-d9aa1f56687c",
   "metadata": {},
   "source": [
    "## Save processed dataset"
   ]
  },
  {
   "cell_type": "code",
   "execution_count": null,
   "id": "fb82b8e6",
   "metadata": {},
   "outputs": [],
   "source": [
    "df.to_csv(\"../output/rrc_data_cleaned.csv\")"
   ]
  }
 ],
 "metadata": {
  "kernelspec": {
   "display_name": "Python 3 (ipykernel)",
   "language": "python",
   "name": "python3"
  },
  "language_info": {
   "codemirror_mode": {
    "name": "ipython",
    "version": 3
   },
   "file_extension": ".py",
   "mimetype": "text/x-python",
   "name": "python",
   "nbconvert_exporter": "python",
   "pygments_lexer": "ipython3",
   "version": "3.8.10"
  },
  "vscode": {
   "interpreter": {
    "hash": "e7370f93d1d0cde622a1f8e1c04877d8463912d04d973331ad4851f04de6915a"
   }
  }
 },
 "nbformat": 4,
 "nbformat_minor": 5
}
