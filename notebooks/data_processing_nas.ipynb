{
 "cells": [
  {
   "cell_type": "markdown",
   "id": "86d97091",
   "metadata": {},
   "source": [
    "# Import Libraries"
   ]
  },
  {
   "cell_type": "code",
   "execution_count": null,
   "id": "91b1939e",
   "metadata": {},
   "outputs": [],
   "source": [
    "import os\n",
    "import csv\n",
    "import ast\n",
    "import requests\n",
    "import numpy as np\n",
    "import pandas as pd\n",
    "import xml.etree.ElementTree as ET\n",
    "from sklearn.preprocessing import LabelEncoder\n",
    "pd.set_option('display.max_rows', None)"
   ]
  },
  {
   "cell_type": "markdown",
   "id": "ca162e22",
   "metadata": {},
   "source": [
    "# Get Packet Fields"
   ]
  },
  {
   "cell_type": "code",
   "execution_count": null,
   "id": "1c975b98",
   "metadata": {},
   "outputs": [],
   "source": [
    "def get_packet_field_names(packet):\n",
    "    packet_fields = []\n",
    "    nested_field_no = 0\n",
    "    for proto in packet.findall('proto'):\n",
    "        if proto.get('name') == 'nas-eps':\n",
    "            for field in proto.findall('field'):\n",
    "                field_name = field.get('name').replace(\".\", \"_\")\n",
    "                if field_name == '':\n",
    "                    nested_field_no = nested_field_no + 1\n",
    "                    field_name = 'nested_field' + str(nested_field_no)\n",
    "                packet_fields.extend([field_name + '_show', field_name + '_value', field_name + '_size', field_name + '_unmaskedvalue'])\n",
    "                for nested_field in field.findall('field'):\n",
    "                    nested_field_name = nested_field.get('name').replace(\".\", \"_\")\n",
    "                    packet_fields.extend([nested_field_name + '_show', nested_field_name + '_value', nested_field_name + '_size', nested_field_name + '_unmaskedvalue'])\n",
    "    return packet_fields"
   ]
  },
  {
   "cell_type": "markdown",
   "id": "e9b549ed",
   "metadata": {},
   "source": [
    "# Align Packet Features"
   ]
  },
  {
   "cell_type": "code",
   "execution_count": null,
   "id": "be8615b1",
   "metadata": {},
   "outputs": [],
   "source": [
    "def align_lists(list1, list2, list2_values):\n",
    "    list2_values_aligned = []\n",
    "    list2_aligned = []\n",
    "    for x in list1:\n",
    "        if x not in list2:\n",
    "            list2_values_aligned.append('')\n",
    "        else:\n",
    "            idx = list2.index(x)\n",
    "            list2_values_aligned.append(list2_values[idx])\n",
    "    return list2_values_aligned"
   ]
  },
  {
   "cell_type": "markdown",
   "id": "01d3d711",
   "metadata": {},
   "source": [
    "# Make Dataframe from Packet Features"
   ]
  },
  {
   "cell_type": "code",
   "execution_count": null,
   "id": "b384f627",
   "metadata": {},
   "outputs": [],
   "source": [
    "def makeDataframe(xmlfile):\n",
    "    dataframe_list = []\n",
    "    tree = ET.parse(xmlfile)\n",
    "    root = tree.getroot()\n",
    "    packets = root.findall('packet')\n",
    "    combined_df = pd.DataFrame()\n",
    "    column_names = []\n",
    "    values = []\n",
    "\n",
    "    column_names = []\n",
    "    for packet in packets:\n",
    "        columns = get_packet_field_names(packet)\n",
    "        column_names = set(column_names).union(set(columns))\n",
    "    column_names = list(column_names)\n",
    "    for packet in packets:\n",
    "        packet_fields = []\n",
    "        for proto in packet.findall('proto'):\n",
    "            selected_fields = []\n",
    "            if proto.get('name') == 'nas-eps':\n",
    "                for field in proto.findall('field'):\n",
    "                    packet_fields.extend([field.get('show'), field.get('value'), field.get('size'), field.get('unmaskedvalue')])\n",
    "                    for nested_field in field.findall('field'):\n",
    "                        packet_fields.extend([nested_field.get('show'), nested_field.get('value'), nested_field.get('size'), nested_field.get('unmaskedvalue')])\n",
    "        columns = get_packet_field_names(packet)\n",
    "        values.append(align_lists(column_names, columns, packet_fields))\n",
    "    return list(column_names), values"
   ]
  },
  {
   "cell_type": "markdown",
   "id": "d451c036",
   "metadata": {},
   "source": [
    "# Prepare Dataframe from PCAP File"
   ]
  },
  {
   "cell_type": "code",
   "execution_count": null,
   "id": "f4a4751c",
   "metadata": {},
   "outputs": [],
   "source": [
    "def prepare_dataframe_from_pcap_file(input_file):\n",
    "    xml_output_file = input_file.replace(\"pcap\", \"xml\")\n",
    "    os.system(\"tshark -r \" + input_file + \" -T pdml > \" + xml_output_file)\n",
    "    column_names, values = makeDataframe(xml_output_file)\n",
    "    df = pd.DataFrame(values, columns=column_names)\n",
    "    return df"
   ]
  },
  {
   "cell_type": "markdown",
   "id": "f5133729",
   "metadata": {},
   "source": [
    "# Process NAS Traces"
   ]
  },
  {
   "cell_type": "code",
   "execution_count": null,
   "id": "cc9fd6ce",
   "metadata": {},
   "outputs": [],
   "source": [
    "df = pd.DataFrame()\n",
    "input_folder = \"../example_traces/nas/\"\n",
    "for input_file in os.listdir(input_folder):\n",
    "    try:\n",
    "        df_i = prepare_dataframe_from_pcap_file(input_folder + input_file)\n",
    "    except IsADirectoryError as e:\n",
    "        continue\n",
    "    df = pd.concat([df, df_i])"
   ]
  },
  {
   "cell_type": "code",
   "execution_count": null,
   "id": "6bb9c552-eeb9-4225-a32a-3a592aa4e444",
   "metadata": {},
   "outputs": [],
   "source": [
    "os.makedirs(\"../output\", exist_ok=True)\n",
    "df.to_csv(\"../output/nas_data_raw.csv\")"
   ]
  },
  {
   "cell_type": "markdown",
   "id": "f21ed7d9-e04f-4173-a526-227e51dab18b",
   "metadata": {},
   "source": [
    "## Encode Categorical Values"
   ]
  },
  {
   "cell_type": "code",
   "execution_count": null,
   "id": "587c4c36-e6f5-4044-a992-7890aa81f528",
   "metadata": {},
   "outputs": [],
   "source": [
    "categorical_cols = df.select_dtypes(include=['object', 'category']).columns\n",
    "df[categorical_cols] = df[categorical_cols].fillna(\"Unknown\")\n",
    "le = LabelEncoder()\n",
    "for col in categorical_cols:\n",
    "    df[col] = le.fit_transform(df[col])"
   ]
  },
  {
   "cell_type": "markdown",
   "id": "513a380f-62ab-40a9-ad64-3c710b2ff3b5",
   "metadata": {},
   "source": [
    "## Handle Missing values"
   ]
  },
  {
   "cell_type": "code",
   "execution_count": null,
   "id": "04d588e1-5858-403e-9e19-6f2f0338c166",
   "metadata": {},
   "outputs": [],
   "source": [
    "# df = df.dropna(axis=1, thresh=len(df) * 0.5) # Drop columns with more than 50% missing values for better result\n",
    "# df = df.loc[:, df.nunique() > 1] # Drop columns with the same value in all rows (no variation) for better result\n",
    "df = df.replace(r'^\\s*$', np.nan, regex=True).fillna(-1) # replace empty cells (\" \") with -1\n",
    "df = df.fillna(-1) # replace all other missing values with -1"
   ]
  },
  {
   "cell_type": "markdown",
   "id": "8854ddf8-320d-4a3f-9548-7817b680b32e",
   "metadata": {},
   "source": [
    "## Label Dataset"
   ]
  },
  {
   "cell_type": "code",
   "execution_count": null,
   "id": "d6e526f3-a353-475d-a345-f6028be40774",
   "metadata": {},
   "outputs": [],
   "source": [
    "folder_path = \"../example_trace_labels/nas/\"\n",
    "all_labels = []\n",
    "for file_name in os.listdir(folder_path):\n",
    "    if file_name.endswith(\".txt\"):\n",
    "        with open(os.path.join(folder_path, file_name), \"r\") as f:\n",
    "            content = f.read().strip()\n",
    "            labels = ast.literal_eval(content.split(\"=\", 1)[1].strip())\n",
    "            all_labels.extend(labels)\n",
    "df[\"label\"] = all_labels[:len(df)]  # truncate if labels > rows"
   ]
  },
  {
   "cell_type": "code",
   "execution_count": null,
   "id": "e1991e89-9bed-4c33-8455-8096c36dc988",
   "metadata": {},
   "outputs": [],
   "source": [
    "df['label'].value_counts()"
   ]
  },
  {
   "cell_type": "markdown",
   "id": "1530235d-5de6-4bd5-89a5-62073b59e648",
   "metadata": {},
   "source": [
    "## Save processed dataset"
   ]
  },
  {
   "cell_type": "code",
   "execution_count": null,
   "id": "05d8dbe5-8b78-4ca5-b8a7-2502549f01d0",
   "metadata": {},
   "outputs": [],
   "source": [
    "df.to_csv(\"../output/fbs_nas.csv\")"
   ]
  },
  {
   "cell_type": "code",
   "execution_count": null,
   "id": "5c28400d-23ed-4e72-bc75-3701235872d0",
   "metadata": {},
   "outputs": [],
   "source": []
  }
 ],
 "metadata": {
  "kernelspec": {
   "display_name": "Python 3 (ipykernel)",
   "language": "python",
   "name": "python3"
  },
  "language_info": {
   "codemirror_mode": {
    "name": "ipython",
    "version": 3
   },
   "file_extension": ".py",
   "mimetype": "text/x-python",
   "name": "python",
   "nbconvert_exporter": "python",
   "pygments_lexer": "ipython3",
   "version": "3.8.10"
  },
  "vscode": {
   "interpreter": {
    "hash": "e7370f93d1d0cde622a1f8e1c04877d8463912d04d973331ad4851f04de6915a"
   }
  }
 },
 "nbformat": 4,
 "nbformat_minor": 5
}
